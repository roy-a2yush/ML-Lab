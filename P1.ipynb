{
 "cells": [
  {
   "cell_type": "code",
   "execution_count": 1,
   "metadata": {},
   "outputs": [],
   "source": [
    "import pandas as pd\n",
    "import numpy as np\n",
    "import csv"
   ]
  },
  {
   "cell_type": "code",
   "execution_count": 2,
   "metadata": {},
   "outputs": [
    {
     "name": "stdout",
     "output_type": "stream",
     "text": [
      "     sky airtemp humidity    wind water forecast enjoysport\n",
      "0  Sunny    Warm   Normal  Strong  Warm     Same        Yes\n",
      "1  Sunny    Warm     High  Strong  Warm     Same        Yes\n",
      "2  Rainy    Cold     High  Strong  Warm   Change         No\n",
      "3  Sunny    Warm     High  Strong  Cool   Change        Yes\n"
     ]
    }
   ],
   "source": [
    "dataset = pd.read_csv(\"trainingdata.csv\")\n",
    "print(dataset)"
   ]
  },
  {
   "cell_type": "code",
   "execution_count": 3,
   "metadata": {},
   "outputs": [
    {
     "name": "stdout",
     "output_type": "stream",
     "text": [
      "4\n",
      "7\n"
     ]
    }
   ],
   "source": [
    "rows = dataset.shape[0]\n",
    "cols = dataset.shape[1]\n",
    "print(rows)\n",
    "print(cols)"
   ]
  },
  {
   "cell_type": "code",
   "execution_count": 4,
   "metadata": {},
   "outputs": [],
   "source": [
    "h = ['0', '0', '0', '0', '0', '0']\n",
    "positiveExamples = []\n",
    "negativeExamples = []\n",
    "for i in range(rows):\n",
    "    sample = []\n",
    "    sample.append(dataset.sky[i])\n",
    "    sample.append(dataset.airtemp[i])\n",
    "    sample.append(dataset.humidity[i])\n",
    "    sample.append(dataset.wind[i])\n",
    "    sample.append(dataset.water[i])\n",
    "    sample.append(dataset.forecast[i])\n",
    "    if dataset.enjoysport[i] == 'Yes':\n",
    "        positiveExamples.append(sample)\n",
    "    else:\n",
    "        negativeExamples.append(sample)"
   ]
  },
  {
   "cell_type": "code",
   "execution_count": 8,
   "metadata": {},
   "outputs": [
    {
     "name": "stdout",
     "output_type": "stream",
     "text": [
      "[['Sunny', 'Warm', 'Normal', 'Strong', 'Warm', 'Same'], ['Sunny', 'Warm', 'High', 'Strong', 'Warm', 'Same'], ['Sunny', 'Warm', 'High', 'Strong', 'Cool', 'Change']]\n",
      "[['Rainy', 'Cold', 'High', 'Strong', 'Warm', 'Change']]\n"
     ]
    }
   ],
   "source": [
    "print(positiveExamples)\n",
    "print(negativeExamples)"
   ]
  },
  {
   "cell_type": "code",
   "execution_count": 6,
   "metadata": {},
   "outputs": [
    {
     "name": "stdout",
     "output_type": "stream",
     "text": [
      "['0', '0', '0', '0', '0', '0']\n"
     ]
    }
   ],
   "source": [
    "for i in range(len(positiveExamples)):\n",
    "    for j in range(cols - 1):\n",
    "        if h[j] == '0':\n",
    "            h[j] = positiveExamples[i][j]\n",
    "        elif h[j] != positiveExamples[i][j]:\n",
    "            h[j] == '?'"
   ]
  },
  {
   "cell_type": "code",
   "execution_count": null,
   "metadata": {},
   "outputs": [],
   "source": []
  }
 ],
 "metadata": {
  "kernelspec": {
   "display_name": "Python 3",
   "language": "python",
   "name": "python3"
  },
  "language_info": {
   "codemirror_mode": {
    "name": "ipython",
    "version": 3
   },
   "file_extension": ".py",
   "mimetype": "text/x-python",
   "name": "python",
   "nbconvert_exporter": "python",
   "pygments_lexer": "ipython3",
   "version": "3.8.5"
  }
 },
 "nbformat": 4,
 "nbformat_minor": 4
}
