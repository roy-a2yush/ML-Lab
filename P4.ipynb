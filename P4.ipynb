{
 "cells": [
  {
   "cell_type": "code",
   "execution_count": 1,
   "metadata": {},
   "outputs": [],
   "source": [
    "import numpy as np\n",
    "\n",
    "X = np.array(([2,9],[1,5],[3,6]),dtype = float)\n",
    "Y = np.array(([92],[86],[89]))\n",
    "\n",
    "c = np.amax(X,axis = 0)\n",
    "X = X/c\n",
    "Y = Y/100"
   ]
  },
  {
   "cell_type": "code",
   "execution_count": 2,
   "metadata": {},
   "outputs": [],
   "source": [
    "epoch = 1000\n",
    "eta = 0.1\n",
    "\n",
    "input_neuron = 2\n",
    "hidden_neuron = 3\n",
    "output_neuron = 1\n",
    "\n",
    "wh = np.random.uniform(size = (input_neuron, hidden_neuron))\n",
    "bh = np.random.uniform(size = (1, hidden_neuron))\n",
    "wout = np.random.uniform(size = (hidden_neuron, output_neuron))\n",
    "bout = np.random.uniform(size = (1, output_neuron))"
   ]
  },
  {
   "cell_type": "code",
   "execution_count": 3,
   "metadata": {},
   "outputs": [],
   "source": [
    "def sigmoid(x):\n",
    "    return 1/(1+np.exp(-x))\n",
    "\n",
    "def sigmoid_grad(x):\n",
    "    return 1*(1-x)"
   ]
  },
  {
   "cell_type": "code",
   "execution_count": 4,
   "metadata": {},
   "outputs": [],
   "source": [
    "for i in range(epoch):\n",
    "    h_in = np.dot(X,wh) + bh\n",
    "    h_out = sigmoid(h_in)\n",
    "    o_in = np.dot(h_out,wout) + bout\n",
    "    o_out = sigmoid(o_in)\n",
    "    \n",
    "    Eo = Y - o_out\n",
    "    outgrad = sigmoid_grad(o_out)\n",
    "    d_output = Eo * outgrad\n",
    "    \n",
    "    Eh = d_output.dot(wout.T)\n",
    "    hiddengrad = sigmoid_grad(h_out)\n",
    "    d_hidden = Eh * hiddengrad\n",
    "    \n",
    "    wout = h_out.T.dot(d_output) * eta\n",
    "    wh = X.T.dot(d_hidden) * eta"
   ]
  },
  {
   "cell_type": "code",
   "execution_count": 5,
   "metadata": {},
   "outputs": [
    {
     "name": "stdout",
     "output_type": "stream",
     "text": [
      "[[0.66666667 1.        ]\n",
      " [0.33333333 0.55555556]\n",
      " [1.         0.66666667]]\n"
     ]
    }
   ],
   "source": [
    "print(str(X))"
   ]
  },
  {
   "cell_type": "code",
   "execution_count": null,
   "metadata": {},
   "outputs": [],
   "source": [
    "prin"
   ]
  }
 ],
 "metadata": {
  "kernelspec": {
   "display_name": "Python 3",
   "language": "python",
   "name": "python3"
  },
  "language_info": {
   "codemirror_mode": {
    "name": "ipython",
    "version": 3
   },
   "file_extension": ".py",
   "mimetype": "text/x-python",
   "name": "python",
   "nbconvert_exporter": "python",
   "pygments_lexer": "ipython3",
   "version": "3.8.5"
  }
 },
 "nbformat": 4,
 "nbformat_minor": 4
}
