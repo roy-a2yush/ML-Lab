{
 "cells": [
  {
   "cell_type": "code",
   "execution_count": 64,
   "metadata": {},
   "outputs": [],
   "source": [
    "import csv\n",
    "import random\n",
    "import math\n",
    "def main():\n",
    "    filename = 'pima-indians-diabetes.csv'\n",
    "    dataset = loadCsv(filename)\n",
    "    splitRatio = 0.8\n",
    "    trainSet, testSet = splitDataset(dataset, splitRatio)\n",
    "    \n",
    "    \n",
    "    summaries = summarizeByClass(trainSet)\n",
    "    prediction = getPredictions(summaries, testSet)\n",
    "    accuracy = getAccuracy(prediction, testSet)\n",
    "    print(accuracy)"
   ]
  },
  {
   "cell_type": "code",
   "execution_count": 65,
   "metadata": {},
   "outputs": [],
   "source": [
    "def loadCsv(filename):\n",
    "    lines = csv.reader(open(filename, \"r\"))\n",
    "    dataset = list(lines)\n",
    "    for i in range(len(dataset)):\n",
    "        dataset[i] = [float(x) for x in dataset[i]]\n",
    "    return dataset"
   ]
  },
  {
   "cell_type": "code",
   "execution_count": 66,
   "metadata": {},
   "outputs": [],
   "source": [
    "def splitDataset(dataset, splitRatio):\n",
    "    testLen = (1 - splitRatio) * len(dataset)\n",
    "    testSet = []\n",
    "    trainSet = list(dataset)\n",
    "    while len(testSet) < testLen:\n",
    "        index = random.randrange(len(trainSet))\n",
    "        testSet.append(trainSet.pop(index))\n",
    "    return trainSet, testSet"
   ]
  },
  {
   "cell_type": "code",
   "execution_count": 67,
   "metadata": {},
   "outputs": [],
   "source": [
    "def summarizeByClass(dataset):\n",
    "    separated = separateByClass(dataset)\n",
    "    summaries = {}\n",
    "    for classValue, instance in separated.items():\n",
    "        summaries[classValue] = summarize(instance)\n",
    "    return summaries"
   ]
  },
  {
   "cell_type": "code",
   "execution_count": 68,
   "metadata": {},
   "outputs": [],
   "source": [
    "def separateByClass(dataset):\n",
    "    separated = {}\n",
    "    for i in range(len(dataset)):\n",
    "        vector = dataset[i]\n",
    "        if(vector[-1] not in separated):\n",
    "            separated[vector[-1]] = []\n",
    "        separated[vector[-1]].append(vector)\n",
    "    return separated"
   ]
  },
  {
   "cell_type": "code",
   "execution_count": 69,
   "metadata": {},
   "outputs": [],
   "source": [
    "def summarize(instance):\n",
    "    summaries = [(mean(attribute), strdev(attribute)) for attribute in zip(*instance)]\n",
    "    del summaries[-1]\n",
    "    return summaries"
   ]
  },
  {
   "cell_type": "code",
   "execution_count": 70,
   "metadata": {},
   "outputs": [],
   "source": [
    "def mean(number):\n",
    "    return sum(number)/float(len(number))"
   ]
  },
  {
   "cell_type": "code",
   "execution_count": 71,
   "metadata": {},
   "outputs": [],
   "source": [
    "def strdev(number):\n",
    "    avg = mean(number)\n",
    "    variance = sum([pow(x - avg, 2) for x in number])/float(len(number) - 1)\n",
    "    return math.sqrt(variance)"
   ]
  },
  {
   "cell_type": "code",
   "execution_count": 72,
   "metadata": {},
   "outputs": [],
   "source": [
    "def getPredictions(summaries, testSet):\n",
    "    predictions = []\n",
    "    for i in range(len(testSet)):\n",
    "        result = predict(summaries, testSet[i])\n",
    "        predictions.append(result)\n",
    "    return predictions"
   ]
  },
  {
   "cell_type": "code",
   "execution_count": 73,
   "metadata": {},
   "outputs": [],
   "source": [
    "def predict(summaries, inputVector):\n",
    "    probabilities = calculateClassProbabilities(summaries, inputVector)\n",
    "    bestLabel = None\n",
    "    bestProb = -1\n",
    "    for label, prob in probabilities.items():\n",
    "        if bestLabel is None or bestProb < prob:\n",
    "            bestProb = prob\n",
    "            bestLabel = label\n",
    "    return bestLabel"
   ]
  },
  {
   "cell_type": "code",
   "execution_count": 74,
   "metadata": {},
   "outputs": [],
   "source": [
    "def calculateClassProbabilities(summaries, inputVector):\n",
    "    probabilities = {}\n",
    "    for classValue, instance in summaries.items():\n",
    "        probabilities[classValue] = 1\n",
    "        for i in range(len(instance)):\n",
    "            mean, stdev = instance[i]\n",
    "            probabilities[classValue] *= calculateProbability(inputVector[i], mean, stdev)\n",
    "    return probabilities"
   ]
  },
  {
   "cell_type": "code",
   "execution_count": 75,
   "metadata": {},
   "outputs": [],
   "source": [
    "def calculateProbability(x, mean, stdev):\n",
    "    exponent = math.exp(-pow(x-mean, 2)/(2*pow(stdev, 2)))\n",
    "    return 1/(math.sqrt(2*math.pi)*stdev) * exponent"
   ]
  },
  {
   "cell_type": "code",
   "execution_count": 78,
   "metadata": {},
   "outputs": [],
   "source": [
    "def getAccuracy(predictions, trainSet):\n",
    "    correct = 0\n",
    "    for i in range(len(trainSet)):\n",
    "        if predictions[i] == trainSet[i][-1]:\n",
    "            correct += 1\n",
    "    return correct/float(len(trainSet)) * 100.0"
   ]
  },
  {
   "cell_type": "code",
   "execution_count": 79,
   "metadata": {},
   "outputs": [
    {
     "name": "stdout",
     "output_type": "stream",
     "text": [
      "75.32467532467533\n"
     ]
    }
   ],
   "source": [
    "main()"
   ]
  },
  {
   "cell_type": "code",
   "execution_count": null,
   "metadata": {},
   "outputs": [],
   "source": []
  }
 ],
 "metadata": {
  "kernelspec": {
   "display_name": "Python 3",
   "language": "python",
   "name": "python3"
  },
  "language_info": {
   "codemirror_mode": {
    "name": "ipython",
    "version": 3
   },
   "file_extension": ".py",
   "mimetype": "text/x-python",
   "name": "python",
   "nbconvert_exporter": "python",
   "pygments_lexer": "ipython3",
   "version": "3.8.5"
  }
 },
 "nbformat": 4,
 "nbformat_minor": 4
}
